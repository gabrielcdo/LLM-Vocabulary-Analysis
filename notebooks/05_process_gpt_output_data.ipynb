{
 "cells": [
  {
   "cell_type": "markdown",
   "metadata": {},
   "source": [
    "# Process output data"
   ]
  },
  {
   "cell_type": "markdown",
   "metadata": {},
   "source": [
    "## Load Data"
   ]
  },
  {
   "cell_type": "code",
   "execution_count": 1,
   "metadata": {},
   "outputs": [],
   "source": [
    "import pandas as pd"
   ]
  },
  {
   "cell_type": "code",
   "execution_count": 2,
   "metadata": {},
   "outputs": [],
   "source": [
    "# load jsonlines \n",
    "data_1 = pd.read_json('../gpt_data/output_data/batch_3ilrsK6fo6QrsZz0gCq3knVY_output.jsonl', lines=True)\n",
    "data_2 = pd.read_json('../gpt_data/output_data/batch_G3rkPDxFiNWXnmk2k5LGmHj2_output.jsonl', lines=True)\n",
    "data_3 = pd.read_json('../gpt_data/output_data/batch_M1SA4fIDJ4P4GwZ50rykTrYN_output.jsonl', lines=True)\n",
    "data_4 = pd.read_json('../gpt_data/output_data/batch_NEwqGLKyB6SMatPnTOLVKYFS_output.jsonl', lines=True)\n"
   ]
  },
  {
   "cell_type": "code",
   "execution_count": 4,
   "metadata": {},
   "outputs": [],
   "source": [
    "# ... existing code ...\n",
    "# Concatenate all and then create idx based on custom_id\n",
    "data = pd.concat([data_1, data_2, data_3, data_4])\n",
    "\n",
    "# Create idx based on custom_id, handling both formats\n",
    "data['idx'] = data['custom_id'].apply(lambda x: int(x.split('-')[-1]))\n",
    "\n",
    "# Create a new column with the request_<idx>\n",
    "data['request_idx'] = 'request_' + data['idx'].astype(str)\n",
    "\n",
    "# Set the request_idx as index\n",
    "data.set_index('request_idx', inplace=True)\n",
    "# ... existing code ..."
   ]
  },
  {
   "cell_type": "code",
   "execution_count": 15,
   "metadata": {},
   "outputs": [
    {
     "data": {
      "text/plain": [
       "{'status_code': 200,\n",
       " 'request_id': '39ed97d30b44c8754706210bf61c41c5',\n",
       " 'body': {'id': 'chatcmpl-A3xrLnfhgHcZr6AP37AMlVrfRa7b4',\n",
       "  'object': 'chat.completion',\n",
       "  'created': 1725508447,\n",
       "  'model': 'gpt-4o-mini-2024-07-18',\n",
       "  'choices': [{'index': 0,\n",
       "    'message': {'role': 'assistant',\n",
       "     'content': '# Análise Combinatória\\n\\n## O que é Análise Combinatória?\\n\\nA análise combinatória é um ramo da matemática que estuda as diferentes maneiras de contar e organizar elementos de um conjunto. É muito útil em situações onde precisamos calcular quantas formas diferentes podemos escolher ou arranjar objetos.\\n\\n## Conceitos Básicos\\n\\n### 1. Fatorial\\n\\nO fatorial de um número natural \\\\( n \\\\) (escrito como \\\\( n! \\\\)) é o produto de todos os números inteiros de 1 até \\\\( n \\\\). Por exemplo:\\n\\n- \\\\( 5! = 5 \\\\times 4 \\\\times 3 \\\\times 2 \\\\times 1 = 120 \\\\)\\n- \\\\( 3! = 3 \\\\times 2 \\\\times 1 = 6 \\\\)\\n- \\\\( 0! = 1 \\\\) (por definição)\\n\\n### 2. Permutações\\n\\nPermutações são arranjos de elementos onde a ordem importa. Por exemplo, se temos as letras A, B e C, as permutações possíveis são:\\n\\n- ABC\\n- ACB\\n- BAC\\n- BCA\\n- CAB\\n- CBA\\n\\n#### Fórmula das Permutações\\n\\nPara calcular o número de permutações de \\\\( n \\\\) elementos, usamos a fórmula:\\n\\n\\\\[\\nP(n) = n!\\n\\\\]\\n\\nSe quisermos permutar apenas \\\\( r \\\\) elementos de um total de \\\\( n \\\\), a fórmula é:\\n\\n\\\\[\\nP(n, r) = \\\\frac{n!}{(n - r)!}\\n\\\\]\\n\\n### 3. Combinações\\n\\nCombinações são seleções de elementos onde a ordem não importa. Por exemplo, ao escolher 2 letras entre A, B e C, as combinações possíveis são:\\n\\n- AB\\n- AC\\n- BC\\n\\n#### Fórmula das Combinações\\n\\nPara calcular o número de combinações de \\\\( n \\\\) elementos tomados \\\\( r \\\\) a \\\\( r \\\\), usamos a fórmula:\\n\\n\\\\[\\nC(n, r) = \\\\frac{n!}{r!(n - r)!}\\n\\\\]\\n\\n### 4. Exemplos Práticos\\n\\n#### Exemplo 1: Permutações\\n\\nQuantas maneiras diferentes podemos organizar as letras da palavra \"SOL\"?\\n\\n- Temos 3 letras: S, O, L.\\n- O número de permutações é \\\\( 3! = 6 \\\\).\\n\\nAs permutações são: SOL, SLO, OSL, OLS, LSO, LOS.\\n\\n#### Exemplo 2: Combinações\\n\\nQuantas maneiras diferentes podemos escolher 2 frutas entre as opções: maçã, banana e laranja?\\n\\n- Temos 3 frutas e queremos escolher 2.\\n- Usamos a fórmula de combinações: \\n\\n\\\\[\\nC(3, 2) = \\\\frac{3!}{2!(3 - 2)!} = \\\\frac{3!}{2! \\\\cdot 1!} = \\\\frac{6}{2 \\\\cdot 1} = 3\\n\\\\]\\n\\nAs combinações são: maçã e banana, maçã e laranja, banana e laranja.\\n\\n## Aplicações da Análise Combinatória\\n\\nA análise combinatória é amplamente utilizada em diversas áreas, como:\\n\\n- **Estatística**: Para calcular probabilidades.\\n- **Ciências da Computação**: Em algoritmos de busca e ordenação.\\n- **Jogos**: Para determinar estratégias e resultados possíveis.\\n\\n## Conclusão\\n\\nA análise combinatória é uma ferramenta poderosa para contar e organizar informações. Compreender os conceitos de permutações e combinações é fundamental para resolver problemas matemáticos e aplicar esses conhecimentos em situações do dia a dia. Pratique com exemplos e exercícios para se familiarizar com as fórmulas e suas aplicações!',\n",
       "     'refusal': None},\n",
       "    'logprobs': None,\n",
       "    'finish_reason': 'stop'}],\n",
       "  'usage': {'prompt_tokens': 82,\n",
       "   'completion_tokens': 784,\n",
       "   'total_tokens': 866},\n",
       "  'system_fingerprint': 'fp_f33667828e'}}"
      ]
     },
     "execution_count": 15,
     "metadata": {},
     "output_type": "execute_result"
    }
   ],
   "source": [
    "data.iloc[0]['response']\n",
    "# create a new column named gpt_content, from response column "
   ]
  },
  {
   "cell_type": "code",
   "execution_count": 16,
   "metadata": {},
   "outputs": [],
   "source": [
    "# create a new column named gpt_content, from response column \n",
    "data['gpt_content'] = data['response'].apply(lambda x: x['body']['choices'][0]['message']['content'])"
   ]
  },
  {
   "cell_type": "code",
   "execution_count": 7,
   "metadata": {},
   "outputs": [],
   "source": [
    "# load master data to do a join with gpt \n",
    "master_data = pd.read_csv('../data/master_data/master_data.csv')\n"
   ]
  },
  {
   "cell_type": "code",
   "execution_count": 18,
   "metadata": {},
   "outputs": [
    {
     "data": {
      "text/html": [
       "<div>\n",
       "<style scoped>\n",
       "    .dataframe tbody tr th:only-of-type {\n",
       "        vertical-align: middle;\n",
       "    }\n",
       "\n",
       "    .dataframe tbody tr th {\n",
       "        vertical-align: top;\n",
       "    }\n",
       "\n",
       "    .dataframe thead th {\n",
       "        text-align: right;\n",
       "    }\n",
       "</style>\n",
       "<table border=\"1\" class=\"dataframe\">\n",
       "  <thead>\n",
       "    <tr style=\"text-align: right;\">\n",
       "      <th></th>\n",
       "      <th>title</th>\n",
       "      <th>url</th>\n",
       "      <th>content</th>\n",
       "      <th>subject</th>\n",
       "      <th>sub-subject</th>\n",
       "    </tr>\n",
       "  </thead>\n",
       "  <tbody>\n",
       "    <tr>\n",
       "      <th>0</th>\n",
       "      <td>Análise combinatória</td>\n",
       "      <td>https://brasilescola.uol.com.br/matematica/ana...</td>\n",
       "      <td>A análise combinatória é um campo de estudo da...</td>\n",
       "      <td>matematica</td>\n",
       "      <td>analise-combinatoria.htm</td>\n",
       "    </tr>\n",
       "    <tr>\n",
       "      <th>1</th>\n",
       "      <td>Binômio de Newton</td>\n",
       "      <td>https://brasilescola.uol.com.br/matematica/bin...</td>\n",
       "      <td>Binômio de Newton é qualquer binômio elevado a...</td>\n",
       "      <td>matematica</td>\n",
       "      <td>binomio-de-newton.htm</td>\n",
       "    </tr>\n",
       "    <tr>\n",
       "      <th>2</th>\n",
       "      <td>Circunferência</td>\n",
       "      <td>https://brasilescola.uol.com.br/matematica/cir...</td>\n",
       "      <td>A circunferência é uma figura geométrica plana...</td>\n",
       "      <td>matematica</td>\n",
       "      <td>circunferencia.htm</td>\n",
       "    </tr>\n",
       "    <tr>\n",
       "      <th>3</th>\n",
       "      <td>Conjuntos</td>\n",
       "      <td>https://brasilescola.uol.com.br/matematica/con...</td>\n",
       "      <td>A compreensão de conjuntos é a principal base ...</td>\n",
       "      <td>matematica</td>\n",
       "      <td>conjunto.htm</td>\n",
       "    </tr>\n",
       "    <tr>\n",
       "      <th>4</th>\n",
       "      <td>Equação</td>\n",
       "      <td>https://brasilescola.uol.com.br/matematica/equ...</td>\n",
       "      <td>Uma equação é uma sentença matemática que poss...</td>\n",
       "      <td>matematica</td>\n",
       "      <td>equacao.htm</td>\n",
       "    </tr>\n",
       "    <tr>\n",
       "      <th>...</th>\n",
       "      <td>...</td>\n",
       "      <td>...</td>\n",
       "      <td>...</td>\n",
       "      <td>...</td>\n",
       "      <td>...</td>\n",
       "    </tr>\n",
       "    <tr>\n",
       "      <th>4959</th>\n",
       "      <td>Economia global atual</td>\n",
       "      <td>https://querobolsa.com.br/enem/geografia/econo...</td>\n",
       "      <td>1) Introdução\\n\\n2) Revolução Verde\\n\\n3) Bret...</td>\n",
       "      <td>geografia</td>\n",
       "      <td>economia-global-atual</td>\n",
       "    </tr>\n",
       "    <tr>\n",
       "      <th>4960</th>\n",
       "      <td>Efeito estufa</td>\n",
       "      <td>https://querobolsa.com.br/enem/geografia/efeit...</td>\n",
       "      <td>1) Introdução\\n\\n2) O que é o efeito estufa?\\n...</td>\n",
       "      <td>geografia</td>\n",
       "      <td>efeito-estufa</td>\n",
       "    </tr>\n",
       "    <tr>\n",
       "      <th>4961</th>\n",
       "      <td>Elementos de um Mapa: veja quais são os princi...</td>\n",
       "      <td>https://querobolsa.com.br/enem/geografia/eleme...</td>\n",
       "      <td>1) Introdução\\n\\n2) Título\\n\\n3) Coordenadas g...</td>\n",
       "      <td>geografia</td>\n",
       "      <td>elementos-do-mapa</td>\n",
       "    </tr>\n",
       "    <tr>\n",
       "      <th>4962</th>\n",
       "      <td>El Niño e La Niña</td>\n",
       "      <td>https://querobolsa.com.br/enem/geografia/el-ni...</td>\n",
       "      <td>1) Introdução\\n\\n2) El Niño\\n\\n3) La Niña\\n\\n4...</td>\n",
       "      <td>geografia</td>\n",
       "      <td>el-nino-e-la-nina</td>\n",
       "    </tr>\n",
       "    <tr>\n",
       "      <th>4963</th>\n",
       "      <td>Energia geotérmica: entenda o que é e como fun...</td>\n",
       "      <td>https://querobolsa.com.br/enem/geografia/energ...</td>\n",
       "      <td>1) Introdução\\n\\n2) O que é energia geotermal?...</td>\n",
       "      <td>geografia</td>\n",
       "      <td>energia-geotermica</td>\n",
       "    </tr>\n",
       "  </tbody>\n",
       "</table>\n",
       "<p>4964 rows × 5 columns</p>\n",
       "</div>"
      ],
      "text/plain": [
       "                                                  title  \\\n",
       "0                                  Análise combinatória   \n",
       "1                                     Binômio de Newton   \n",
       "2                                        Circunferência   \n",
       "3                                             Conjuntos   \n",
       "4                                               Equação   \n",
       "...                                                 ...   \n",
       "4959                              Economia global atual   \n",
       "4960                                      Efeito estufa   \n",
       "4961  Elementos de um Mapa: veja quais são os princi...   \n",
       "4962                                  El Niño e La Niña   \n",
       "4963  Energia geotérmica: entenda o que é e como fun...   \n",
       "\n",
       "                                                    url  \\\n",
       "0     https://brasilescola.uol.com.br/matematica/ana...   \n",
       "1     https://brasilescola.uol.com.br/matematica/bin...   \n",
       "2     https://brasilescola.uol.com.br/matematica/cir...   \n",
       "3     https://brasilescola.uol.com.br/matematica/con...   \n",
       "4     https://brasilescola.uol.com.br/matematica/equ...   \n",
       "...                                                 ...   \n",
       "4959  https://querobolsa.com.br/enem/geografia/econo...   \n",
       "4960  https://querobolsa.com.br/enem/geografia/efeit...   \n",
       "4961  https://querobolsa.com.br/enem/geografia/eleme...   \n",
       "4962  https://querobolsa.com.br/enem/geografia/el-ni...   \n",
       "4963  https://querobolsa.com.br/enem/geografia/energ...   \n",
       "\n",
       "                                                content     subject  \\\n",
       "0     A análise combinatória é um campo de estudo da...  matematica   \n",
       "1     Binômio de Newton é qualquer binômio elevado a...  matematica   \n",
       "2     A circunferência é uma figura geométrica plana...  matematica   \n",
       "3     A compreensão de conjuntos é a principal base ...  matematica   \n",
       "4     Uma equação é uma sentença matemática que poss...  matematica   \n",
       "...                                                 ...         ...   \n",
       "4959  1) Introdução\\n\\n2) Revolução Verde\\n\\n3) Bret...   geografia   \n",
       "4960  1) Introdução\\n\\n2) O que é o efeito estufa?\\n...   geografia   \n",
       "4961  1) Introdução\\n\\n2) Título\\n\\n3) Coordenadas g...   geografia   \n",
       "4962  1) Introdução\\n\\n2) El Niño\\n\\n3) La Niña\\n\\n4...   geografia   \n",
       "4963  1) Introdução\\n\\n2) O que é energia geotermal?...   geografia   \n",
       "\n",
       "                   sub-subject  \n",
       "0     analise-combinatoria.htm  \n",
       "1        binomio-de-newton.htm  \n",
       "2           circunferencia.htm  \n",
       "3                 conjunto.htm  \n",
       "4                  equacao.htm  \n",
       "...                        ...  \n",
       "4959     economia-global-atual  \n",
       "4960             efeito-estufa  \n",
       "4961         elementos-do-mapa  \n",
       "4962         el-nino-e-la-nina  \n",
       "4963        energia-geotermica  \n",
       "\n",
       "[4964 rows x 5 columns]"
      ]
     },
     "execution_count": 18,
     "metadata": {},
     "output_type": "execute_result"
    }
   ],
   "source": [
    "master_data"
   ]
  },
  {
   "cell_type": "code",
   "execution_count": 20,
   "metadata": {},
   "outputs": [],
   "source": [
    "# save as final_data\n",
    "data.to_csv('../data/final_data/final_data.csv')\n"
   ]
  }
 ],
 "metadata": {
  "kernelspec": {
   "display_name": "venv",
   "language": "python",
   "name": "python3"
  },
  "language_info": {
   "codemirror_mode": {
    "name": "ipython",
    "version": 3
   },
   "file_extension": ".py",
   "mimetype": "text/x-python",
   "name": "python",
   "nbconvert_exporter": "python",
   "pygments_lexer": "ipython3",
   "version": "3.10.12"
  }
 },
 "nbformat": 4,
 "nbformat_minor": 2
}
