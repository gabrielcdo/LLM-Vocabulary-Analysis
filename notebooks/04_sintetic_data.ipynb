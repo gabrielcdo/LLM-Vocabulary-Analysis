{
 "cells": [
  {
   "cell_type": "markdown",
   "metadata": {},
   "source": [
    "# Generate Synthetic Data"
   ]
  },
  {
   "cell_type": "markdown",
   "metadata": {},
   "source": [
    "## Constants"
   ]
  },
  {
   "cell_type": "code",
   "execution_count": 1,
   "metadata": {},
   "outputs": [],
   "source": [
    "PRIMER = \"\"\n",
    "GPT_4O_MINI = \"gpt-4o-mini\"\n",
    "TEMPERATURE = 1\n",
    "TOP_P = 0.1"
   ]
  },
  {
   "cell_type": "markdown",
   "metadata": {},
   "source": [
    "## Imports"
   ]
  },
  {
   "cell_type": "code",
   "execution_count": 2,
   "metadata": {},
   "outputs": [],
   "source": [
    "from langchain.prompts import PromptTemplate\n",
    "import openai\n",
    "from dotenv import dotenv_values\n",
    "import pandas as pd\n",
    "import numpy as np\n",
    "\n",
    "config = dotenv_values(\"../.env\")\n"
   ]
  },
  {
   "cell_type": "code",
   "execution_count": 3,
   "metadata": {},
   "outputs": [],
   "source": [
    "client = openai.OpenAI(api_key=config[\"API_KEY\"], max_retries=5)"
   ]
  },
  {
   "cell_type": "markdown",
   "metadata": {},
   "source": [
    "## Auxiliar Functions"
   ]
  },
  {
   "cell_type": "code",
   "execution_count": 5,
   "metadata": {},
   "outputs": [],
   "source": [
    "def predict_gpt(text: str, model=GPT_4O_MINI, temperature=TEMPERATURE, primer=PRIMER, response_format = {\"type\": \"text\"}):\n",
    "    \"\"\"\n",
    "    Generates a text completion using the GPT model.\n",
    "\n",
    "    Args:c\n",
    "        text (str): The user's input text.\n",
    "        model: The GPT model to use for text generation.\n",
    "        temperature: The temperature parameter for text generation.\n",
    "\n",
    "    Returns:\n",
    "        The generated text completion.\n",
    "    \"\"\"\n",
    "    # print(text)\n",
    "    result = client.chat.completions.create(\n",
    "        model=model,\n",
    "        messages=[\n",
    "            {\"role\": \"system\", \"content\": primer},\n",
    "            {\"role\": \"user\", \"content\": text},\n",
    "        ],\n",
    "        temperature=temperature,\n",
    "        response_format=response_format,\n",
    "        seed=42,\n",
    "        top_p=TOP_P\n",
    "    )\n",
    "\n",
    "    return result\n"
   ]
  },
  {
   "cell_type": "code",
   "execution_count": 6,
   "metadata": {},
   "outputs": [],
   "source": [
    "def format_prompt(template, subject, sub_subject_title):\n",
    "    identify_elements_prompt = PromptTemplate(input_variables=[\"subject\", \"sub_subject_title\"], template=template)\n",
    "    prompt = identify_elements_prompt.format(subject=subject, sub_subject_title=sub_subject_title)\n",
    "    return prompt"
   ]
  },
  {
   "cell_type": "code",
   "execution_count": 7,
   "metadata": {},
   "outputs": [],
   "source": [
    "def generate_jsonl_input_data(data, template, model=GPT_4O_MINI, temperature=TEMPERATURE, top_p=TOP_P, primer=PRIMER):\n",
    "    \"\"\"\n",
    "    Generates JSONL input data for batch processing with OpenAI API.\n",
    "\n",
    "    Args:\n",
    "        data (pd.DataFrame): DataFrame containing subject and title information.\n",
    "        template (str): Prompt template string.\n",
    "        model (str): GPT model to use. Defaults to GPT_4O_MINI.\n",
    "        temperature (float): Temperature for text generation. Defaults to TEMPERATURE.\n",
    "        top_p (float): Top-p sampling parameter. Defaults to TOP_P.\n",
    "        primer (str): System message content. Defaults to PRIMER.\n",
    "\n",
    "    Returns:\n",
    "        list: List of dictionaries containing input data for each request.\n",
    "    \"\"\"\n",
    "    inputs = []\n",
    "    for index, row in data.iterrows():\n",
    "        custom_id = f\"request-{index}\"\n",
    "        subject = row[\"subject\"]\n",
    "        sub_subject_title = row[\"title\"]\n",
    "        \n",
    "        prompt = format_prompt(template, subject, sub_subject_title)\n",
    "        \n",
    "        messages = [\n",
    "            {\"role\": \"system\", \"content\": primer},\n",
    "            {\"role\": \"user\", \"content\": prompt}\n",
    "        ]\n",
    "        \n",
    "        input_data = {\n",
    "            \"custom_id\": custom_id,\n",
    "            \"method\": \"POST\",\n",
    "            \"url\": \"/v1/chat/completions\",\n",
    "            \"body\": {\n",
    "                \"model\": model,\n",
    "                \"messages\": messages,\n",
    "                \"max_tokens\": 2000,\n",
    "                \"temperature\": temperature,\n",
    "                \"top_p\": top_p\n",
    "            }\n",
    "        }\n",
    "        inputs.append(input_data)\n",
    "    \n",
    "    return inputs"
   ]
  },
  {
   "cell_type": "markdown",
   "metadata": {},
   "source": [
    "## Load data_subjects"
   ]
  },
  {
   "cell_type": "code",
   "execution_count": 8,
   "metadata": {},
   "outputs": [],
   "source": [
    "data = pd.read_csv('../data/master_data/master_data.csv')"
   ]
  },
  {
   "cell_type": "code",
   "execution_count": 9,
   "metadata": {},
   "outputs": [
    {
     "name": "stdout",
     "output_type": "stream",
     "text": [
      "Data shape: (4964, 5)\n",
      "Data shape: (4304, 5)\n"
     ]
    }
   ],
   "source": [
    "print(f\"Data shape: {data.shape}\")\n",
    "data['title'] = data['title'].str.lower()\n",
    "data = data.drop_duplicates(subset=['title'])\n",
    "print(f\"Data shape: {data.shape}\")\n"
   ]
  },
  {
   "cell_type": "code",
   "execution_count": 13,
   "metadata": {},
   "outputs": [],
   "source": [
    "template = \"\"\"Você é um especialista em educação, conhecido por criar materiais didáticos claros e acessíveis. Sua tarefa é elaborar um resumo didático, voltado para estudantes do ensino médio, sobre o tema \"{sub_subject_title}\" em {subject}. Use uma linguagem simples, exemplos práticos e organize o conteúdo de forma que os alunos entendam facilmente o tema.\"\"\""
   ]
  },
  {
   "cell_type": "markdown",
   "metadata": {},
   "source": [
    "## Generate Input Data"
   ]
  },
  {
   "cell_type": "code",
   "execution_count": 18,
   "metadata": {},
   "outputs": [],
   "source": [
    "data['prompt'] = generate_jsonl_input_data(data, template)"
   ]
  },
  {
   "cell_type": "code",
   "execution_count": 25,
   "metadata": {},
   "outputs": [],
   "source": [
    "import json\n",
    "# File path where you want to save the JSONL file\n",
    "file_path = '../gpt_data/input_data/input_data.jsonl'\n",
    "\n",
    "# Writing to a JSONL file\n",
    "with open(file_path, 'w') as f:\n",
    "    for entry in data['prompt']:\n",
    "        json_line = json.dumps(entry, ensure_ascii=False)\n",
    "        f.write(json_line + '\\n') "
   ]
  },
  {
   "cell_type": "code",
   "execution_count": 26,
   "metadata": {},
   "outputs": [],
   "source": [
    "with open(file_path, 'r') as f:\n",
    "    lines = f.readlines()\n",
    "\n",
    "# Calculate the number of lines per batch\n",
    "num_batches = 4\n",
    "batch_size = len(lines) // num_batches\n",
    "\n",
    "# Split lines into batches\n",
    "for i in range(num_batches):\n",
    "    start_index = i * batch_size\n",
    "    end_index = start_index + batch_size if i < num_batches - 1 else len(lines)  # Ensure the last batch gets any remaining lines\n",
    "    with open(f'../gpt_data/input_data/input_data_{i+1}.jsonl', 'w') as out_file:\n",
    "        out_file.writelines(lines[start_index:end_index])"
   ]
  },
  {
   "cell_type": "markdown",
   "metadata": {},
   "source": [
    "## Upload File to OpenAi"
   ]
  },
  {
   "cell_type": "code",
   "execution_count": 28,
   "metadata": {},
   "outputs": [],
   "source": [
    "batch_input_file = []"
   ]
  },
  {
   "cell_type": "code",
   "execution_count": 29,
   "metadata": {},
   "outputs": [
    {
     "name": "stdout",
     "output_type": "stream",
     "text": [
      "File 1 uploaded\n",
      "File 2 uploaded\n",
      "File 3 uploaded\n",
      "File 4 uploaded\n"
     ]
    }
   ],
   "source": [
    "for i in range(num_batches):\n",
    "    batch_input_file.append(client.files.create(\n",
    "        file=open(f'../gpt_data/input_data/input_data_{i+1}.jsonl', \"rb\"),\n",
    "        purpose=\"batch\"\n",
    "    ))\n",
    "    print(f\"File {i+1} uploaded\")"
   ]
  },
  {
   "cell_type": "code",
   "execution_count": 31,
   "metadata": {},
   "outputs": [
    {
     "data": {
      "text/plain": [
       "FileObject(id='file-lJ8suwcrAtTZrbUNPCLlvLXh', bytes=654259, created_at=1725508290, filename='input_data_1.jsonl', object='file', purpose='batch', status='processed', status_details=None)"
      ]
     },
     "execution_count": 31,
     "metadata": {},
     "output_type": "execute_result"
    }
   ],
   "source": [
    "batch_input_file[0]"
   ]
  },
  {
   "cell_type": "markdown",
   "metadata": {},
   "source": [
    "## Process Batch"
   ]
  },
  {
   "cell_type": "code",
   "execution_count": 33,
   "metadata": {},
   "outputs": [
    {
     "name": "stdout",
     "output_type": "stream",
     "text": [
      "1 id: file-lJ8suwcrAtTZrbUNPCLlvLXh\n",
      "2 id: file-Dert7iT5cfFqNgKn67lY7jFC\n",
      "3 id: file-bT0MDwhZIcDI8FsqzNHamQJ2\n",
      "4 id: file-1mzQo9Nil6gsYZXpU4xDJjWQ\n"
     ]
    }
   ],
   "source": [
    "\n",
    "for i in range(num_batches):\n",
    "    print(f\"{i+1} id: {batch_input_file[i].id}\")\n"
   ]
  },
  {
   "cell_type": "code",
   "execution_count": 5,
   "metadata": {},
   "outputs": [
    {
     "data": {
      "text/plain": [
       "Batch(id='batch_NEwqGLKyB6SMatPnTOLVKYFS', completion_window='24h', created_at=1725594345, endpoint='/v1/chat/completions', input_file_id='file-1mzQo9Nil6gsYZXpU4xDJjWQ', object='batch', status='validating', cancelled_at=None, cancelling_at=None, completed_at=None, error_file_id=None, errors=None, expired_at=None, expires_at=1725680745, failed_at=None, finalizing_at=None, in_progress_at=None, metadata={'description': 'geração de dados, teste v2 todos dados'}, output_file_id=None, request_counts=BatchRequestCounts(completed=0, failed=0, total=0))"
      ]
     },
     "execution_count": 5,
     "metadata": {},
     "output_type": "execute_result"
    }
   ],
   "source": [
    "batch_input_file_id = \"file-1mzQo9Nil6gsYZXpU4xDJjWQ\"\n",
    "\n",
    "client.batches.create(\n",
    "    input_file_id=batch_input_file_id,\n",
    "    endpoint=\"/v1/chat/completions\",\n",
    "    completion_window=\"24h\",\n",
    "    metadata={\n",
    "      \"description\": \"geração de dados, teste v2 todos dados\"\n",
    "    }\n",
    ")"
   ]
  },
  {
   "cell_type": "code",
   "execution_count": null,
   "metadata": {},
   "outputs": [],
   "source": [
    "## Prepare batch input "
   ]
  },
  {
   "cell_type": "code",
   "execution_count": null,
   "metadata": {},
   "outputs": [],
   "source": [
    "# batch_input_file_id = batch_input_file.id\n",
    "\n",
    "# client.batches.create(\n",
    "#     input_file_id=batch_input_file_id,\n",
    "#     endpoint=\"/v1/chat/completions\",\n",
    "#     completion_window=\"24h\",\n",
    "#     metadata={\n",
    "#       \"description\": \"nightly eval job\"\n",
    "#     }\n",
    "# )"
   ]
  },
  {
   "cell_type": "code",
   "execution_count": null,
   "metadata": {},
   "outputs": [],
   "source": [
    "# load /home/letrus/Documentos/Personal_Projects/soft_eng2/batch_mZZXQ9LwO5Wt1ZDF1NDqJmbp_output.jsonl\n",
    "output_data = pd.read_json('/home/letrus/Documentos/Personal_Projects/soft_eng2/batch_MHvUtGOukK9sa0qe5YdllcES_output.jsonl', lines=True)"
   ]
  },
  {
   "cell_type": "code",
   "execution_count": null,
   "metadata": {},
   "outputs": [
    {
     "data": {
      "text/plain": [
       "'# Introdução à Aritmética: Operações Básicas\\n\\n## O que é Aritmética?\\n\\nA Aritmética é uma das áreas da Matemática que lida com números e as operações que podemos realizar com eles. As operações básicas da Aritmética são:\\n\\n1. **Adição (+)**\\n2. **Subtração (−)**\\n3. **Multiplicação (×)**\\n4. **Divisão (÷)**\\n\\nEssas operações são fundamentais para resolver problemas do dia a dia e são a base para aprender matemática mais avançada.\\n\\n## 1. Adição\\n\\nA adição é a operação de juntar ou somar quantidades. \\n\\n### Exemplo:\\nSe você tem 3 maçãs e ganha mais 2, quantas maçãs você tem agora?\\n\\n**Cálculo:**\\n3 + 2 = 5\\n\\nPortanto, você tem 5 maçãs.\\n\\n### Propriedades da Adição:\\n- **Comutativa:** A ordem dos números não altera o resultado. Exemplo: 2 + 3 = 3 + 2.\\n- **Associativa:** A forma como agrupamos os números não altera o resultado. Exemplo: (1 + 2) + 3 = 1 + (2 + 3).\\n\\n## 2. Subtração\\n\\nA subtração é a operação de retirar ou diminuir uma quantidade de outra.\\n\\n### Exemplo:\\nSe você tem 5 balas e come 2, quantas balas restam?\\n\\n**Cálculo:**\\n5 - 2 = 3\\n\\nPortanto, você tem 3 balas restantes.\\n\\n### Propriedades da Subtração:\\n- **Não é comutativa:** A ordem importa. Exemplo: 5 - 2 ≠ 2 - 5.\\n- **Não é associativa:** (5 - 2) - 1 ≠ 5 - (2 - 1).\\n\\n## 3. Multiplicação\\n\\nA multiplicação é uma forma de adição repetida. \\n\\n### Exemplo:\\nSe você tem 4 pacotes de figurinhas, e cada pacote tem 5 figurinhas, quantas figurinhas você tem no total?\\n\\n**Cálculo:**\\n4 × 5 = 20\\n\\nPortanto, você tem 20 figurinhas.\\n\\n### Propriedades da Multiplicação:\\n- **Comutativa:** A ordem dos fatores não altera o produto. Exemplo: 3 × 4 = 4 × 3.\\n- **Associativa:** A forma como agrupamos os números não altera o resultado. Exemplo: (2 × 3) × 4 = 2 × (3 × 4).\\n- **Distributiva:** A multiplicação distribui sobre a adição. Exemplo: 2 × (3 + 4) = 2 × 3 + 2 × 4.\\n\\n## 4. Divisão\\n\\nA divisão é a operação de repartir uma quantidade em partes iguais.\\n\\n### Exemplo:\\nSe você tem 12 chocolates e quer dividir igualmente entre 4 amigos, quantos chocolates cada um receberá?\\n\\n**Cálculo:**\\n12 ÷ 4 = 3\\n\\nPortanto, cada amigo receberá 3 chocolates.\\n\\n### Propriedades da Divisão:\\n- **Não é comutativa:** A ordem importa. Exemplo: 12 ÷ 4 ≠ 4 ÷ 12.\\n- **Não é associativa:** (12 ÷ 4) ÷ 2 ≠ 12 ÷ (4 ÷ 2).\\n\\n## Resumo\\n\\nAs operações básicas da Aritmética são essenciais para resolver problemas cotidianos e formar a base para o aprendizado de matemática mais complexa. Pratique cada uma delas com exemplos do seu dia a dia, como calcular o total de compras, dividir contas ou somar pontos em jogos. Quanto mais você praticar, mais fácil será entender e aplicar esses conceitos!\\n\\n### Dicas de Prática:\\n- Crie problemas do dia a dia e resolva usando as operações.\\n- Use jogos e aplicativos de matemática para treinar.\\n- Trabalhe em grupo para discutir e resolver exercícios juntos.\\n\\nLembre-se: a prática leva à perfeição!'"
      ]
     },
     "execution_count": 59,
     "metadata": {},
     "output_type": "execute_result"
    }
   ],
   "source": [
    "output_data['response'].iloc[0]['body']['choices'][0]['message']['content']"
   ]
  },
  {
   "cell_type": "code",
   "execution_count": null,
   "metadata": {},
   "outputs": [
    {
     "ename": "TypeError",
     "evalue": "the JSON object must be str, bytes or bytearray, not dict",
     "output_type": "error",
     "traceback": [
      "\u001b[0;31m---------------------------------------------------------------------------\u001b[0m",
      "\u001b[0;31mTypeError\u001b[0m                                 Traceback (most recent call last)",
      "Cell \u001b[0;32mIn[60], line 1\u001b[0m\n\u001b[0;32m----> 1\u001b[0m \u001b[43mjson\u001b[49m\u001b[38;5;241;43m.\u001b[39;49m\u001b[43mloads\u001b[49m\u001b[43m(\u001b[49m\u001b[43moutput_data\u001b[49m\u001b[43m[\u001b[49m\u001b[38;5;124;43m'\u001b[39;49m\u001b[38;5;124;43mresponse\u001b[39;49m\u001b[38;5;124;43m'\u001b[39;49m\u001b[43m]\u001b[49m\u001b[38;5;241;43m.\u001b[39;49m\u001b[43miloc\u001b[49m\u001b[43m[\u001b[49m\u001b[38;5;241;43m0\u001b[39;49m\u001b[43m]\u001b[49m\u001b[43m)\u001b[49m\n",
      "File \u001b[0;32m/usr/lib/python3.10/json/__init__.py:339\u001b[0m, in \u001b[0;36mloads\u001b[0;34m(s, cls, object_hook, parse_float, parse_int, parse_constant, object_pairs_hook, **kw)\u001b[0m\n\u001b[1;32m    337\u001b[0m \u001b[38;5;28;01melse\u001b[39;00m:\n\u001b[1;32m    338\u001b[0m     \u001b[38;5;28;01mif\u001b[39;00m \u001b[38;5;129;01mnot\u001b[39;00m \u001b[38;5;28misinstance\u001b[39m(s, (\u001b[38;5;28mbytes\u001b[39m, \u001b[38;5;28mbytearray\u001b[39m)):\n\u001b[0;32m--> 339\u001b[0m         \u001b[38;5;28;01mraise\u001b[39;00m \u001b[38;5;167;01mTypeError\u001b[39;00m(\u001b[38;5;124mf\u001b[39m\u001b[38;5;124m'\u001b[39m\u001b[38;5;124mthe JSON object must be str, bytes or bytearray, \u001b[39m\u001b[38;5;124m'\u001b[39m\n\u001b[1;32m    340\u001b[0m                         \u001b[38;5;124mf\u001b[39m\u001b[38;5;124m'\u001b[39m\u001b[38;5;124mnot \u001b[39m\u001b[38;5;132;01m{\u001b[39;00ms\u001b[38;5;241m.\u001b[39m\u001b[38;5;18m__class__\u001b[39m\u001b[38;5;241m.\u001b[39m\u001b[38;5;18m__name__\u001b[39m\u001b[38;5;132;01m}\u001b[39;00m\u001b[38;5;124m'\u001b[39m)\n\u001b[1;32m    341\u001b[0m     s \u001b[38;5;241m=\u001b[39m s\u001b[38;5;241m.\u001b[39mdecode(detect_encoding(s), \u001b[38;5;124m'\u001b[39m\u001b[38;5;124msurrogatepass\u001b[39m\u001b[38;5;124m'\u001b[39m)\n\u001b[1;32m    343\u001b[0m \u001b[38;5;28;01mif\u001b[39;00m (\u001b[38;5;28mcls\u001b[39m \u001b[38;5;129;01mis\u001b[39;00m \u001b[38;5;28;01mNone\u001b[39;00m \u001b[38;5;129;01mand\u001b[39;00m object_hook \u001b[38;5;129;01mis\u001b[39;00m \u001b[38;5;28;01mNone\u001b[39;00m \u001b[38;5;129;01mand\u001b[39;00m\n\u001b[1;32m    344\u001b[0m         parse_int \u001b[38;5;129;01mis\u001b[39;00m \u001b[38;5;28;01mNone\u001b[39;00m \u001b[38;5;129;01mand\u001b[39;00m parse_float \u001b[38;5;129;01mis\u001b[39;00m \u001b[38;5;28;01mNone\u001b[39;00m \u001b[38;5;129;01mand\u001b[39;00m\n\u001b[1;32m    345\u001b[0m         parse_constant \u001b[38;5;129;01mis\u001b[39;00m \u001b[38;5;28;01mNone\u001b[39;00m \u001b[38;5;129;01mand\u001b[39;00m object_pairs_hook \u001b[38;5;129;01mis\u001b[39;00m \u001b[38;5;28;01mNone\u001b[39;00m \u001b[38;5;129;01mand\u001b[39;00m \u001b[38;5;129;01mnot\u001b[39;00m kw):\n",
      "\u001b[0;31mTypeError\u001b[0m: the JSON object must be str, bytes or bytearray, not dict"
     ]
    }
   ],
   "source": [
    "json.loads(output_data['response'].iloc[0])"
   ]
  },
  {
   "cell_type": "code",
   "execution_count": null,
   "metadata": {},
   "outputs": [],
   "source": [
    "output_data['response_content'] = output_data['response'].apply(lambda x: x['body']['choices'][0]['message']['content'])"
   ]
  },
  {
   "cell_type": "code",
   "execution_count": null,
   "metadata": {},
   "outputs": [
    {
     "name": "stderr",
     "output_type": "stream",
     "text": [
      "/tmp/ipykernel_13607/3755428332.py:3: SettingWithCopyWarning: \n",
      "A value is trying to be set on a copy of a slice from a DataFrame.\n",
      "Try using .loc[row_indexer,col_indexer] = value instead\n",
      "\n",
      "See the caveats in the documentation: https://pandas.pydata.org/pandas-docs/stable/user_guide/indexing.html#returning-a-view-versus-a-copy\n",
      "  data['idx'] = data.index\n"
     ]
    }
   ],
   "source": [
    "# join the output data with data by idxs \n",
    "output_data['idx'] = output_data.index\n",
    "data['idx'] = data.index\n",
    "\n",
    "# join\n",
    "merged_data = data.merge(output_data, on='idx')"
   ]
  },
  {
   "cell_type": "code",
   "execution_count": null,
   "metadata": {},
   "outputs": [],
   "source": [
    "merged_data[['title', 'subject', 'response_content']].to_csv('geral_output.csv', index=False)"
   ]
  },
  {
   "cell_type": "code",
   "execution_count": null,
   "metadata": {},
   "outputs": [
    {
     "data": {
      "text/html": [
       "<div>\n",
       "<style scoped>\n",
       "    .dataframe tbody tr th:only-of-type {\n",
       "        vertical-align: middle;\n",
       "    }\n",
       "\n",
       "    .dataframe tbody tr th {\n",
       "        vertical-align: top;\n",
       "    }\n",
       "\n",
       "    .dataframe thead th {\n",
       "        text-align: right;\n",
       "    }\n",
       "</style>\n",
       "<table border=\"1\" class=\"dataframe\">\n",
       "  <thead>\n",
       "    <tr style=\"text-align: right;\">\n",
       "      <th></th>\n",
       "      <th>title</th>\n",
       "      <th>url</th>\n",
       "      <th>content</th>\n",
       "      <th>subject</th>\n",
       "      <th>sub-subject</th>\n",
       "      <th>tokens</th>\n",
       "      <th>idx</th>\n",
       "      <th>id</th>\n",
       "      <th>custom_id</th>\n",
       "      <th>response</th>\n",
       "      <th>error</th>\n",
       "      <th>response_content</th>\n",
       "    </tr>\n",
       "  </thead>\n",
       "  <tbody>\n",
       "    <tr>\n",
       "      <th>0</th>\n",
       "      <td>Introdução Aritmética I Operações Básicas</td>\n",
       "      <td>https://resumos.mesalva.com/introducao-aritmet...</td>\n",
       "      <td>Ao lado da física e da química, a matemática é...</td>\n",
       "      <td>Matematica</td>\n",
       "      <td>introducao-aritmetica-operacoes-basicas</td>\n",
       "      <td>1656</td>\n",
       "      <td>0</td>\n",
       "      <td>batch_req_oHSv36ra5jyBRAvXfzi7lsJq</td>\n",
       "      <td>request-0</td>\n",
       "      <td>{'status_code': 200, 'request_id': 'be6626008d...</td>\n",
       "      <td>NaN</td>\n",
       "      <td># Introdução à Aritmética: Operações Básicas\\n...</td>\n",
       "    </tr>\n",
       "    <tr>\n",
       "      <th>1</th>\n",
       "      <td>Adição e Subtração de Naturais</td>\n",
       "      <td>https://resumos.mesalva.com/adicao-e-subtracao...</td>\n",
       "      <td>É caracterizada pela soma de duas ou mais “coi...</td>\n",
       "      <td>Matematica</td>\n",
       "      <td>adicao-e-subtracao-de-naturais-2</td>\n",
       "      <td>604</td>\n",
       "      <td>1</td>\n",
       "      <td>batch_req_HbRaAPKOSeFhHUVT3SuQNnCy</td>\n",
       "      <td>request-1</td>\n",
       "      <td>{'status_code': 200, 'request_id': 'f95d9a65b1...</td>\n",
       "      <td>NaN</td>\n",
       "      <td># Resumo Didático: Adição e Subtração de Númer...</td>\n",
       "    </tr>\n",
       "    <tr>\n",
       "      <th>2</th>\n",
       "      <td>Multiplicação e Divisão de Naturais</td>\n",
       "      <td>https://resumos.mesalva.com/multiplicacao-e-di...</td>\n",
       "      <td>Essa operação é uma forma mais fácil de realiz...</td>\n",
       "      <td>Matematica</td>\n",
       "      <td>multiplicacao-e-divisao-de-naturais</td>\n",
       "      <td>547</td>\n",
       "      <td>2</td>\n",
       "      <td>batch_req_NoTxiwmwxVbu0O6P5jwZU91Z</td>\n",
       "      <td>request-2</td>\n",
       "      <td>{'status_code': 200, 'request_id': 'e275b2e093...</td>\n",
       "      <td>NaN</td>\n",
       "      <td># Resumo Didático: Multiplicação e Divisão de ...</td>\n",
       "    </tr>\n",
       "    <tr>\n",
       "      <th>3</th>\n",
       "      <td>Máximo Divisor Comum (MDC) e os Números Primos</td>\n",
       "      <td>https://resumos.mesalva.com/maximo-divisor-com...</td>\n",
       "      <td>Ao planejar a sua festinha de aniversário, voc...</td>\n",
       "      <td>Matematica</td>\n",
       "      <td>maximo-divisor-comum-mdc-numeros-primos</td>\n",
       "      <td>974</td>\n",
       "      <td>3</td>\n",
       "      <td>batch_req_OIHusrKnnBWcL4RMmKoMi9MZ</td>\n",
       "      <td>request-3</td>\n",
       "      <td>{'status_code': 200, 'request_id': 'c46998664f...</td>\n",
       "      <td>NaN</td>\n",
       "      <td># Máximo Divisor Comum (MDC) e Números Primos\\...</td>\n",
       "    </tr>\n",
       "    <tr>\n",
       "      <th>4</th>\n",
       "      <td>Mínimo Múltiplo Comum – MMC</td>\n",
       "      <td>https://resumos.mesalva.com/minimo-multiplo-co...</td>\n",
       "      <td>Novamente, essa técnica é aplicada em dois ou ...</td>\n",
       "      <td>Matematica</td>\n",
       "      <td>minimo-multiplo-comum-mmc</td>\n",
       "      <td>629</td>\n",
       "      <td>4</td>\n",
       "      <td>batch_req_naiXy3JGZ1vvuE6H10PfRwA9</td>\n",
       "      <td>request-4</td>\n",
       "      <td>{'status_code': 200, 'request_id': '9b13bc1f41...</td>\n",
       "      <td>NaN</td>\n",
       "      <td># Mínimo Múltiplo Comum (MMC)\\n\\n## O que é o ...</td>\n",
       "    </tr>\n",
       "    <tr>\n",
       "      <th>...</th>\n",
       "      <td>...</td>\n",
       "      <td>...</td>\n",
       "      <td>...</td>\n",
       "      <td>...</td>\n",
       "      <td>...</td>\n",
       "      <td>...</td>\n",
       "      <td>...</td>\n",
       "      <td>...</td>\n",
       "      <td>...</td>\n",
       "      <td>...</td>\n",
       "      <td>...</td>\n",
       "      <td>...</td>\n",
       "    </tr>\n",
       "    <tr>\n",
       "      <th>938</th>\n",
       "      <td>A Missão Artística Francesa e a Arte Acadêmica</td>\n",
       "      <td>https://resumos.mesalva.com/missao-artistica-f...</td>\n",
       "      <td>A mudança da corte portuguesa para o Rio de Ja...</td>\n",
       "      <td>Artes</td>\n",
       "      <td>missao-artistica-francesa-arte-academica</td>\n",
       "      <td>624</td>\n",
       "      <td>940</td>\n",
       "      <td>batch_req_o6ihcg3LP8nrq0QPGluqq999</td>\n",
       "      <td>request-942</td>\n",
       "      <td>{'status_code': 200, 'request_id': '3279843a40...</td>\n",
       "      <td>NaN</td>\n",
       "      <td># Movimento Antropofágico nas Artes\\n\\n## O qu...</td>\n",
       "    </tr>\n",
       "    <tr>\n",
       "      <th>939</th>\n",
       "      <td>Semana de Arte Moderna</td>\n",
       "      <td>https://resumos.mesalva.com/semana-arte-moderna/</td>\n",
       "      <td>O gosto pela Arte Acadêmica apenas seria abala...</td>\n",
       "      <td>Artes</td>\n",
       "      <td>semana-arte-moderna</td>\n",
       "      <td>958</td>\n",
       "      <td>941</td>\n",
       "      <td>batch_req_VZFh8kEOCDRMfnhozfaaMdTU</td>\n",
       "      <td>request-943</td>\n",
       "      <td>{'status_code': 200, 'request_id': 'f2bf3f5a67...</td>\n",
       "      <td>NaN</td>\n",
       "      <td># Arte Contemporânea Brasileira\\n\\n## O que é ...</td>\n",
       "    </tr>\n",
       "    <tr>\n",
       "      <th>940</th>\n",
       "      <td>Movimento Antropofágico</td>\n",
       "      <td>https://resumos.mesalva.com/movimento-antropof...</td>\n",
       "      <td>Dificilmente imaginaríamos o surgimento do Mov...</td>\n",
       "      <td>Artes</td>\n",
       "      <td>movimento-antropofagico</td>\n",
       "      <td>525</td>\n",
       "      <td>942</td>\n",
       "      <td>batch_req_p8AK196DkFf31VoLlkT1AhJf</td>\n",
       "      <td>request-944</td>\n",
       "      <td>{'status_code': 200, 'request_id': '832ff98f2c...</td>\n",
       "      <td>NaN</td>\n",
       "      <td># Cinema e Literatura: Um Diálogo\\n\\n## Introd...</td>\n",
       "    </tr>\n",
       "    <tr>\n",
       "      <th>941</th>\n",
       "      <td>Arte Contemporânea Brasileira</td>\n",
       "      <td>https://resumos.mesalva.com/arte-contemporanea...</td>\n",
       "      <td>De um modo geral, quando falamos sobre Arte Co...</td>\n",
       "      <td>Artes</td>\n",
       "      <td>arte-contemporanea-brasileira</td>\n",
       "      <td>1533</td>\n",
       "      <td>943</td>\n",
       "      <td>batch_req_VFwE4gbyqvgIPlrlmmxYjJqN</td>\n",
       "      <td>request-945</td>\n",
       "      <td>{'status_code': 200, 'request_id': '5fed5c1bda...</td>\n",
       "      <td>NaN</td>\n",
       "      <td># Leituras Adaptadas em Artes\\n\\n## O que são ...</td>\n",
       "    </tr>\n",
       "    <tr>\n",
       "      <th>942</th>\n",
       "      <td>Cinema e Literatura: Um Diálogo</td>\n",
       "      <td>https://resumos.mesalva.com/cinema-literatura-...</td>\n",
       "      <td>Quando pensamos nas relações entre Literatura ...</td>\n",
       "      <td>Artes</td>\n",
       "      <td>cinema-literatura-dialogo</td>\n",
       "      <td>1015</td>\n",
       "      <td>944</td>\n",
       "      <td>batch_req_tao8zJ047p5PcHU722pNJfYe</td>\n",
       "      <td>request-946</td>\n",
       "      <td>{'status_code': 200, 'request_id': '24f9f66eda...</td>\n",
       "      <td>NaN</td>\n",
       "      <td># Leituras Homoafetivas em Artes\\n\\n## O que s...</td>\n",
       "    </tr>\n",
       "  </tbody>\n",
       "</table>\n",
       "<p>943 rows × 12 columns</p>\n",
       "</div>"
      ],
      "text/plain": [
       "                                              title  \\\n",
       "0         Introdução Aritmética I Operações Básicas   \n",
       "1                    Adição e Subtração de Naturais   \n",
       "2               Multiplicação e Divisão de Naturais   \n",
       "3    Máximo Divisor Comum (MDC) e os Números Primos   \n",
       "4                       Mínimo Múltiplo Comum – MMC   \n",
       "..                                              ...   \n",
       "938  A Missão Artística Francesa e a Arte Acadêmica   \n",
       "939                          Semana de Arte Moderna   \n",
       "940                         Movimento Antropofágico   \n",
       "941                   Arte Contemporânea Brasileira   \n",
       "942                 Cinema e Literatura: Um Diálogo   \n",
       "\n",
       "                                                   url  \\\n",
       "0    https://resumos.mesalva.com/introducao-aritmet...   \n",
       "1    https://resumos.mesalva.com/adicao-e-subtracao...   \n",
       "2    https://resumos.mesalva.com/multiplicacao-e-di...   \n",
       "3    https://resumos.mesalva.com/maximo-divisor-com...   \n",
       "4    https://resumos.mesalva.com/minimo-multiplo-co...   \n",
       "..                                                 ...   \n",
       "938  https://resumos.mesalva.com/missao-artistica-f...   \n",
       "939   https://resumos.mesalva.com/semana-arte-moderna/   \n",
       "940  https://resumos.mesalva.com/movimento-antropof...   \n",
       "941  https://resumos.mesalva.com/arte-contemporanea...   \n",
       "942  https://resumos.mesalva.com/cinema-literatura-...   \n",
       "\n",
       "                                               content     subject  \\\n",
       "0    Ao lado da física e da química, a matemática é...  Matematica   \n",
       "1    É caracterizada pela soma de duas ou mais “coi...  Matematica   \n",
       "2    Essa operação é uma forma mais fácil de realiz...  Matematica   \n",
       "3    Ao planejar a sua festinha de aniversário, voc...  Matematica   \n",
       "4    Novamente, essa técnica é aplicada em dois ou ...  Matematica   \n",
       "..                                                 ...         ...   \n",
       "938  A mudança da corte portuguesa para o Rio de Ja...       Artes   \n",
       "939  O gosto pela Arte Acadêmica apenas seria abala...       Artes   \n",
       "940  Dificilmente imaginaríamos o surgimento do Mov...       Artes   \n",
       "941  De um modo geral, quando falamos sobre Arte Co...       Artes   \n",
       "942  Quando pensamos nas relações entre Literatura ...       Artes   \n",
       "\n",
       "                                  sub-subject  tokens  idx  \\\n",
       "0     introducao-aritmetica-operacoes-basicas    1656    0   \n",
       "1            adicao-e-subtracao-de-naturais-2     604    1   \n",
       "2         multiplicacao-e-divisao-de-naturais     547    2   \n",
       "3     maximo-divisor-comum-mdc-numeros-primos     974    3   \n",
       "4                   minimo-multiplo-comum-mmc     629    4   \n",
       "..                                        ...     ...  ...   \n",
       "938  missao-artistica-francesa-arte-academica     624  940   \n",
       "939                       semana-arte-moderna     958  941   \n",
       "940                   movimento-antropofagico     525  942   \n",
       "941             arte-contemporanea-brasileira    1533  943   \n",
       "942                 cinema-literatura-dialogo    1015  944   \n",
       "\n",
       "                                     id    custom_id  \\\n",
       "0    batch_req_oHSv36ra5jyBRAvXfzi7lsJq    request-0   \n",
       "1    batch_req_HbRaAPKOSeFhHUVT3SuQNnCy    request-1   \n",
       "2    batch_req_NoTxiwmwxVbu0O6P5jwZU91Z    request-2   \n",
       "3    batch_req_OIHusrKnnBWcL4RMmKoMi9MZ    request-3   \n",
       "4    batch_req_naiXy3JGZ1vvuE6H10PfRwA9    request-4   \n",
       "..                                  ...          ...   \n",
       "938  batch_req_o6ihcg3LP8nrq0QPGluqq999  request-942   \n",
       "939  batch_req_VZFh8kEOCDRMfnhozfaaMdTU  request-943   \n",
       "940  batch_req_p8AK196DkFf31VoLlkT1AhJf  request-944   \n",
       "941  batch_req_VFwE4gbyqvgIPlrlmmxYjJqN  request-945   \n",
       "942  batch_req_tao8zJ047p5PcHU722pNJfYe  request-946   \n",
       "\n",
       "                                              response  error  \\\n",
       "0    {'status_code': 200, 'request_id': 'be6626008d...    NaN   \n",
       "1    {'status_code': 200, 'request_id': 'f95d9a65b1...    NaN   \n",
       "2    {'status_code': 200, 'request_id': 'e275b2e093...    NaN   \n",
       "3    {'status_code': 200, 'request_id': 'c46998664f...    NaN   \n",
       "4    {'status_code': 200, 'request_id': '9b13bc1f41...    NaN   \n",
       "..                                                 ...    ...   \n",
       "938  {'status_code': 200, 'request_id': '3279843a40...    NaN   \n",
       "939  {'status_code': 200, 'request_id': 'f2bf3f5a67...    NaN   \n",
       "940  {'status_code': 200, 'request_id': '832ff98f2c...    NaN   \n",
       "941  {'status_code': 200, 'request_id': '5fed5c1bda...    NaN   \n",
       "942  {'status_code': 200, 'request_id': '24f9f66eda...    NaN   \n",
       "\n",
       "                                      response_content  \n",
       "0    # Introdução à Aritmética: Operações Básicas\\n...  \n",
       "1    # Resumo Didático: Adição e Subtração de Númer...  \n",
       "2    # Resumo Didático: Multiplicação e Divisão de ...  \n",
       "3    # Máximo Divisor Comum (MDC) e Números Primos\\...  \n",
       "4    # Mínimo Múltiplo Comum (MMC)\\n\\n## O que é o ...  \n",
       "..                                                 ...  \n",
       "938  # Movimento Antropofágico nas Artes\\n\\n## O qu...  \n",
       "939  # Arte Contemporânea Brasileira\\n\\n## O que é ...  \n",
       "940  # Cinema e Literatura: Um Diálogo\\n\\n## Introd...  \n",
       "941  # Leituras Adaptadas em Artes\\n\\n## O que são ...  \n",
       "942  # Leituras Homoafetivas em Artes\\n\\n## O que s...  \n",
       "\n",
       "[943 rows x 12 columns]"
      ]
     },
     "execution_count": 67,
     "metadata": {},
     "output_type": "execute_result"
    }
   ],
   "source": [
    "merged_data"
   ]
  },
  {
   "cell_type": "code",
   "execution_count": null,
   "metadata": {},
   "outputs": [],
   "source": [
    "merged_data.to_csv('geral_output_v0.csv', index=False)"
   ]
  }
 ],
 "metadata": {
  "kernelspec": {
   "display_name": "venv",
   "language": "python",
   "name": "python3"
  },
  "language_info": {
   "codemirror_mode": {
    "name": "ipython",
    "version": 3
   },
   "file_extension": ".py",
   "mimetype": "text/x-python",
   "name": "python",
   "nbconvert_exporter": "python",
   "pygments_lexer": "ipython3",
   "version": "3.10.12"
  }
 },
 "nbformat": 4,
 "nbformat_minor": 2
}
